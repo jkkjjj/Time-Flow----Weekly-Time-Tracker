{
 "cells": [
  {
   "cell_type": "code",
   "execution_count": 4,
   "metadata": {},
   "outputs": [
    {
     "name": "stdout",
     "output_type": "stream",
     "text": [
      "Skipped: week1-Toggl_Track_summary_report_2024-12-30_2025-01-05.pdf (already in correct format)\n",
      "Skipped: week2-Toggl_Track_summary_report_2025-01-06_2025-01-12.pdf (already in correct format)\n",
      "Skipped: week3-Toggl_Track_summary_report_2025-01-13_2025-01-19.pdf (already in correct format)\n",
      "Skipped: week4-Toggl_Track_summary_report_2025-01-20_2025-01-26.pdf (already in correct format)\n",
      "Skipped: week5-Toggl_Track_summary_report_2025-01-27_2025-02-02.pdf (already in correct format)\n",
      "Skipped: week6-Toggl_Track_summary_report_2025-02-03_2025-02-09.pdf (already in correct format)\n",
      "Skipped: week7-Toggl_Track_summary_report_2025-02-10_2025-02-16.pdf (already in correct format)\n"
     ]
    }
   ],
   "source": [
    "import os\n",
    "import re\n",
    "\n",
    "# 配置目录路径（根据你的实际路径修改）\n",
    "directory = r'E:\\GoogleDownload\\Time-Flow----Weekly-Time-Tracker\\Time Flow----Weekly Time Tracker\\winter vacation'\n",
    "\n",
    "for filename in os.listdir(directory):\n",
    "    if filename.endswith('.pdf'):\n",
    "        # 使用正则表达式匹配文件名模式\n",
    "        match = re.match(r'^week(\\d{2})-.*?(_\\d{4}-\\d{2}-\\d{2}_.*\\.pdf)$', filename)\n",
    "        \n",
    "        if match:\n",
    "            # 构建新文件名\n",
    "            new_name = f'week{match.group(1)}{match.group(2)}'\n",
    "            \n",
    "            # 完整的文件路径\n",
    "            old_path = os.path.join(directory, filename)\n",
    "            new_path = os.path.join(directory, new_name)\n",
    "            \n",
    "            # 执行重命名操作\n",
    "            os.rename(old_path, new_path)\n",
    "            print(f'Renamed: {filename} \\n -> {new_name}\\n')\n",
    "        else:\n",
    "            print(f'Skipped: {filename} (already in correct format)')"
   ]
  },
  {
   "cell_type": "code",
   "execution_count": null,
   "metadata": {},
   "outputs": [],
   "source": []
  },
  {
   "cell_type": "code",
   "execution_count": null,
   "metadata": {},
   "outputs": [],
   "source": []
  },
  {
   "cell_type": "code",
   "execution_count": null,
   "metadata": {},
   "outputs": [],
   "source": []
  },
  {
   "cell_type": "code",
   "execution_count": null,
   "metadata": {},
   "outputs": [],
   "source": []
  },
  {
   "cell_type": "code",
   "execution_count": null,
   "metadata": {},
   "outputs": [],
   "source": []
  },
  {
   "cell_type": "code",
   "execution_count": null,
   "metadata": {},
   "outputs": [],
   "source": []
  },
  {
   "cell_type": "code",
   "execution_count": null,
   "metadata": {},
   "outputs": [],
   "source": []
  },
  {
   "cell_type": "code",
   "execution_count": null,
   "metadata": {},
   "outputs": [],
   "source": []
  },
  {
   "cell_type": "code",
   "execution_count": null,
   "metadata": {},
   "outputs": [],
   "source": []
  },
  {
   "cell_type": "code",
   "execution_count": null,
   "metadata": {},
   "outputs": [],
   "source": []
  }
 ],
 "metadata": {
  "kernelspec": {
   "display_name": "base",
   "language": "python",
   "name": "python3"
  },
  "language_info": {
   "codemirror_mode": {
    "name": "ipython",
    "version": 3
   },
   "file_extension": ".py",
   "mimetype": "text/x-python",
   "name": "python",
   "nbconvert_exporter": "python",
   "pygments_lexer": "ipython3",
   "version": "3.11.5"
  }
 },
 "nbformat": 4,
 "nbformat_minor": 2
}
